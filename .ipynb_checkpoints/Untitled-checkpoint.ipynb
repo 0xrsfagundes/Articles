{
 "cells": [
  {
   "cell_type": "code",
   "execution_count": 2,
   "id": "4d7d1fe0",
   "metadata": {},
   "outputs": [],
   "source": [
    "import pandas as pd\n",
    "import random\n",
    "\n",
    "# Create synthetic data for ActionIQ campaign\n",
    "actioniq_data = pd.DataFrame({\n",
    "    'impressions': [random.randint(1000, 5000) for _ in range(30)],\n",
    "    'clicks': [random.randint(10, 100) for _ in range(30)]\n",
    "})\n",
    "\n",
    "# Create synthetic data for LiveRamp campaign\n",
    "liveramp_data = pd.DataFrame({\n",
    "    'impressions': [random.randint(1000, 5000) for _ in range(30)],\n",
    "    'clicks': [random.randint(10, 100) for _ in range(30)]\n",
    "})\n",
    "\n",
    "# Save the data to CSV files\n",
    "actioniq_data.to_csv('actioniq_data.csv', index=False)\n",
    "liveramp_data.to_csv('liveramp_data.csv', index=False)\n"
   ]
  }
 ],
 "metadata": {
  "kernelspec": {
   "display_name": "Python 3 (ipykernel)",
   "language": "python",
   "name": "python3"
  },
  "language_info": {
   "codemirror_mode": {
    "name": "ipython",
    "version": 3
   },
   "file_extension": ".py",
   "mimetype": "text/x-python",
   "name": "python",
   "nbconvert_exporter": "python",
   "pygments_lexer": "ipython3",
   "version": "3.10.5"
  }
 },
 "nbformat": 4,
 "nbformat_minor": 5
}
