{
 "cells": [
  {
   "cell_type": "code",
   "execution_count": 2,
   "id": "968c0e39",
   "metadata": {},
   "outputs": [],
   "source": [
    "import pandas as pd\n",
    "import random\n",
    "\n",
    "# Create synthetic data for ActionIQ campaign\n",
    "actioniq_data = pd.DataFrame({\n",
    "    'impressions': [random.randint(1000, 5000) for _ in range(30)],\n",
    "    'clicks': [random.randint(10, 100) for _ in range(30)]\n",
    "})\n",
    "\n",
    "# Create synthetic data for LiveRamp campaign\n",
    "liveramp_data = pd.DataFrame({\n",
    "    'impressions': [random.randint(1000, 5000) for _ in range(30)],\n",
    "    'clicks': [random.randint(10, 100) for _ in range(30)]\n",
    "})\n",
    "\n"
   ]
  },
  {
   "cell_type": "code",
   "execution_count": 4,
   "id": "f1e1b377",
   "metadata": {},
   "outputs": [
    {
     "name": "stdout",
     "output_type": "stream",
     "text": [
      "There is no statistically significant difference between ActionIQ and LiveRamp (p-value = 0.2615145006013783)\n"
     ]
    }
   ],
   "source": [
    "import pandas as pd\n",
    "import scipy.stats as stats\n",
    "\n",
    "\n",
    "# Calculate CTR for each campaign\n",
    "actioniq_ctr = actioniq_data['clicks'] / actioniq_data['impressions']\n",
    "liveramp_ctr = liveramp_data['clicks'] / liveramp_data['impressions']\n",
    "\n",
    "# Perform a two-sample t-test\n",
    "t_stat, p_value = stats.ttest_ind(actioniq_ctr, liveramp_ctr, equal_var=False)\n",
    "\n",
    "# Set significance level (alpha)\n",
    "alpha = 0.05\n",
    "\n",
    "# Check if the p-value is less than alpha\n",
    "if p_value < alpha:\n",
    "    print(f'There is a statistically significant difference between ActionIQ and LiveRamp (p-value = {p_value})')\n",
    "else:\n",
    "    print(f'There is no statistically significant difference between ActionIQ and LiveRamp (p-value = {p_value})')\n"
   ]
  }
 ],
 "metadata": {
  "kernelspec": {
   "display_name": "Python 3 (ipykernel)",
   "language": "python",
   "name": "python3"
  },
  "language_info": {
   "codemirror_mode": {
    "name": "ipython",
    "version": 3
   },
   "file_extension": ".py",
   "mimetype": "text/x-python",
   "name": "python",
   "nbconvert_exporter": "python",
   "pygments_lexer": "ipython3",
   "version": "3.10.5"
  }
 },
 "nbformat": 4,
 "nbformat_minor": 5
}
