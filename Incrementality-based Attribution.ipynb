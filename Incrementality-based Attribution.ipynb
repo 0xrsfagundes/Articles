{
 "cells": [
  {
   "cell_type": "code",
   "execution_count": 7,
   "metadata": {},
   "outputs": [
    {
     "name": "stdout",
     "output_type": "stream",
     "text": [
      "Incremental conversion rate: 0.3333333333333333\n",
      "Incremental lift: inf\n",
      "Incremental ROI: -1.3462091026813194\n"
     ]
    },
    {
     "name": "stderr",
     "output_type": "stream",
     "text": [
      "/Users/rsfagundes/Library/Python/3.7/lib/python/site-packages/ipykernel_launcher.py:25: RuntimeWarning: divide by zero encountered in double_scalars\n"
     ]
    }
   ],
   "source": [
    "import pandas as pd\n",
    "from sklearn.linear_model import LogisticRegression\n",
    "\n",
    "# Define the ad data as a Pandas DataFrame\n",
    "data = pd.DataFrame({\n",
    "    'treatment': [0, 0, 1, 1, 1],\n",
    "    'converted': [0, 0, 0, 1, 0],\n",
    "    'revenue': [0, 0, 0, 100, 0],\n",
    "    'cost': [50, 60, 70, 80, 75]\n",
    "})\n",
    "\n",
    "# Compute incremental conversions and revenue using logistic regression\n",
    "model = LogisticRegression(random_state=0).fit(data[['treatment']], data['converted'])\n",
    "data['incremental_conversions'] = model.predict_proba(data[['treatment']])[:, 1] - data['converted']\n",
    "data['incremental_revenue'] = data['incremental_conversions'] * data['revenue']\n",
    "\n",
    "# Compute incremental ROI\n",
    "incremental_profit = data['incremental_revenue'].sum() - data.loc[data['treatment'] == 1, 'cost'].sum()\n",
    "incremental_roi = incremental_profit / data.loc[data['treatment'] == 1, 'cost'].sum()\n",
    "\n",
    "# Compute incremental conversion rate and lift\n",
    "control = data.loc[data['treatment'] == 0, 'converted'].mean()\n",
    "treatment = data.loc[data['treatment'] == 1, 'converted'].mean()\n",
    "incremental_conversion_rate = treatment - control\n",
    "incremental_lift = incremental_conversion_rate / control\n",
    "\n",
    "print('Incremental conversion rate:', incremental_conversion_rate)\n",
    "print('Incremental lift:', incremental_lift)\n",
    "print('Incremental ROI:', incremental_roi)\n"
   ]
  }
 ],
 "metadata": {
  "kernelspec": {
   "display_name": "Python 3 (ipykernel)",
   "language": "python",
   "name": "python3"
  },
  "language_info": {
   "codemirror_mode": {
    "name": "ipython",
    "version": 3
   },
   "file_extension": ".py",
   "mimetype": "text/x-python",
   "name": "python",
   "nbconvert_exporter": "python",
   "pygments_lexer": "ipython3",
   "version": "3.10.9"
  }
 },
 "nbformat": 4,
 "nbformat_minor": 2
}
