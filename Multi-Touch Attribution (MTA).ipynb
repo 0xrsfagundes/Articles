{
 "cells": [
  {
   "cell_type": "code",
   "execution_count": 1,
   "metadata": {},
   "outputs": [
    {
     "name": "stdout",
     "output_type": "stream",
     "text": [
      "First-touch attribution model:\n",
      "source\n",
      "Facebook     0.1\n",
      "Google       0.1\n",
      "Instagram    0.1\n",
      "Twitter      0.2\n",
      "Name: conversion, dtype: float64\n",
      "\n",
      "Last-touch attribution model:\n",
      "source\n",
      "Facebook     0.1\n",
      "Google       0.1\n",
      "Instagram    0.1\n",
      "Twitter      0.2\n",
      "Name: conversion, dtype: float64\n"
     ]
    }
   ],
   "source": [
    "import pandas as pd\n",
    "\n",
    "# Load sample data into a Pandas dataframe\n",
    "df = pd.DataFrame({\n",
    "    'user_id': [1, 2, 3, 4, 5, 6, 7, 8, 9, 10],\n",
    "    'source': ['Facebook', 'Facebook', 'Google', 'Google', 'Google', 'Twitter', 'Twitter', 'Twitter', 'Instagram', 'Instagram'],\n",
    "    'conversion': [False, True, False, True, False, True, False, True, False, True]\n",
    "})\n",
    "\n",
    "# First-touch attribution model\n",
    "first_touch = df.drop_duplicates(subset=['user_id'], keep='first')\n",
    "first_touch_conversions = first_touch.groupby('source')['conversion'].sum()\n",
    "first_touch_conversion_rate = first_touch_conversions / len(first_touch)\n",
    "\n",
    "print('First-touch attribution model:')\n",
    "print(first_touch_conversion_rate)\n",
    "\n",
    "# Last-touch attribution model\n",
    "last_touch = df.drop_duplicates(subset=['user_id'], keep='last')\n",
    "last_touch_conversions = last_touch.groupby('source')['conversion'].sum()\n",
    "last_touch_conversion_rate = last_touch_conversions / len(last_touch)\n",
    "\n",
    "print('\\nLast-touch attribution model:')\n",
    "print(last_touch_conversion_rate)\n"
   ]
  }
 ],
 "metadata": {
  "kernelspec": {
   "display_name": "Python 3 (ipykernel)",
   "language": "python",
   "name": "python3"
  },
  "language_info": {
   "codemirror_mode": {
    "name": "ipython",
    "version": 3
   },
   "file_extension": ".py",
   "mimetype": "text/x-python",
   "name": "python",
   "nbconvert_exporter": "python",
   "pygments_lexer": "ipython3",
   "version": "3.10.9"
  }
 },
 "nbformat": 4,
 "nbformat_minor": 2
}
